{
 "cells": [
  {
   "cell_type": "markdown",
   "metadata": {},
   "source": [
    "# Using unittest for the functions that can be tested\n",
    "\n",
    "Reference on how to use unittest in Jupyter:\n",
    "https://medium.com/@vladbezden/using-python-unittest-in-ipython-or-jupyter-732448724e31"
   ]
  },
  {
   "cell_type": "code",
   "execution_count": 1,
   "metadata": {},
   "outputs": [],
   "source": [
    "# Convert Canto number to Roman number\n",
    "# Reference: https://stackoverflow.com/a/28777781/4011538\n",
    "\n",
    "from collections import OrderedDict\n",
    "\n",
    "def convert_to_roman(n):\n",
    "\n",
    "    roman = OrderedDict()\n",
    "    roman[1000] = \"M\"\n",
    "    roman[900] = \"CM\"\n",
    "    roman[500] = \"D\"\n",
    "    roman[400] = \"CD\"\n",
    "    roman[100] = \"C\"\n",
    "    roman[90] = \"XC\"\n",
    "    roman[50] = \"L\"\n",
    "    roman[40] = \"XL\"\n",
    "    roman[10] = \"X\"\n",
    "    roman[9] = \"IX\"\n",
    "    roman[5] = \"V\"\n",
    "    roman[4] = \"IV\"\n",
    "    roman[1] = \"I\"\n",
    "\n",
    "    def roman_num(n):\n",
    "        for r in roman.keys():\n",
    "            x, y = divmod(n, r)\n",
    "            yield roman[r] * x\n",
    "            n -= (r * x)\n",
    "            if n > 0:\n",
    "                roman_num(n)\n",
    "            else:\n",
    "                break\n",
    "\n",
    "    return \"\".join([a for a in roman_num(n)])\n"
   ]
  },
  {
   "cell_type": "code",
   "execution_count": 2,
   "metadata": {},
   "outputs": [],
   "source": [
    "import nltk, string\n",
    "from nltk import RegexpTokenizer\n",
    "\n",
    "# Get the last word in a tokenized list for line\n",
    "\n",
    "# Helper to remove punctuation\n",
    "tokenizer = RegexpTokenizer(r'\\w+')\n",
    "\n",
    "def last_word_fun(line):\n",
    "    words = line.split()\n",
    "    last_word = tokenizer.tokenize(words[-1])\n",
    "    return last_word"
   ]
  },
  {
   "cell_type": "code",
   "execution_count": 3,
   "metadata": {},
   "outputs": [],
   "source": [
    "import unittest\n",
    "\n",
    "class TestRomanNumberConversion(unittest.TestCase):\n",
    "\n",
    "    def test_num(self):\n",
    "        self.assertEqual(convert_to_roman(1), 'I')\n",
    "        self.assertEqual(convert_to_roman(7), 'VII')\n",
    "        # This test is set to check that only matches are valid\n",
    "        self.assertNotEqual(convert_to_roman(9), 'XI')\n",
    "\n",
    "class TestLastWord(unittest.TestCase):\n",
    "\n",
    "    def test_last_word_in_line(self):\n",
    "        self.assertEqual(last_word_fun('Per correr miglior acque alza le vele'),\n",
    "                         ['vele'])\n",
    "        self.assertEqual(last_word_fun('che lascia dietro a sé mar sì crudele;'),\n",
    "                         ['crudele'])\n",
    "        self.assertNotEqual(last_word_fun('ché la diritta via era smarrita.'),\n",
    "                            ['vita'])"
   ]
  },
  {
   "cell_type": "code",
   "execution_count": 4,
   "metadata": {},
   "outputs": [
    {
     "name": "stderr",
     "output_type": "stream",
     "text": [
      "..\n",
      "----------------------------------------------------------------------\n",
      "Ran 2 tests in 0.003s\n",
      "\n",
      "OK\n"
     ]
    }
   ],
   "source": [
    "if __name__ == '__main__':\n",
    "    unittest.main(argv=['first-arg-is-ignored'], exit=False)"
   ]
  },
  {
   "cell_type": "code",
   "execution_count": null,
   "metadata": {},
   "outputs": [],
   "source": []
  }
 ],
 "metadata": {
  "kernelspec": {
   "display_name": "Python 3",
   "language": "python",
   "name": "python3"
  },
  "language_info": {
   "codemirror_mode": {
    "name": "ipython",
    "version": 3
   },
   "file_extension": ".py",
   "mimetype": "text/x-python",
   "name": "python",
   "nbconvert_exporter": "python",
   "pygments_lexer": "ipython3",
   "version": "3.6.4"
  }
 },
 "nbformat": 4,
 "nbformat_minor": 2
}
