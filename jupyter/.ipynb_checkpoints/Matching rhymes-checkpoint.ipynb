{
 "cells": [
  {
   "cell_type": "markdown",
   "metadata": {},
   "source": [
    "# Test for rhymes"
   ]
  },
  {
   "cell_type": "markdown",
   "metadata": {},
   "source": [
    "Let's check that the test fails where it's supposed to (no rhyme expected)"
   ]
  },
  {
   "cell_type": "code",
   "execution_count": 1,
   "metadata": {},
   "outputs": [
    {
     "name": "stdout",
     "output_type": "stream",
     "text": [
      "There is no rhyme\n"
     ]
    }
   ],
   "source": [
    "# Test for the last 3 chars of the last word in the line.\n",
    "# If less than 3 chars match, there is no rhyme.\n",
    "# Otherwise there is a rhyme.\n",
    "\n",
    "lines = [\n",
    "    \"Nel mezzo del cammin di nostra vita\",\n",
    "    \"mi ritrovai per una selva oscura\",\n",
    "    \"che la diritta via era smarrita\"\n",
    "]\n",
    "\n",
    "# Test 1st line against 2nd - It should fail and return \"There is no rhyme\"\n",
    "if (lines[0][-3:] == lines[1][-3:]):\n",
    "    print(\"We have a rhyme\")\n",
    "else:\n",
    "    print(\"There is no rhyme\")"
   ]
  },
  {
   "cell_type": "markdown",
   "metadata": {},
   "source": [
    "Now let's check the odd lines (rhyme expected)"
   ]
  },
  {
   "cell_type": "code",
   "execution_count": 2,
   "metadata": {},
   "outputs": [
    {
     "name": "stdout",
     "output_type": "stream",
     "text": [
      "We have a rhyme\n"
     ]
    }
   ],
   "source": [
    "lines = [\n",
    "    \"Nel mezzo del cammin di nostra vita\",\n",
    "    \"mi ritrovai per una selva oscura\",\n",
    "    \"che la diritta via era smarrita\"\n",
    "]\n",
    "\n",
    "# Test odd lines - It should return \"We have a rhyme\"\n",
    "if (lines[0][-3:] == lines[2][-3:]):\n",
    "    print(\"We have a rhyme\")\n",
    "else:\n",
    "    print(\"There is no rhyme\")"
   ]
  },
  {
   "cell_type": "code",
   "execution_count": null,
   "metadata": {},
   "outputs": [],
   "source": []
  }
 ],
 "metadata": {
  "kernelspec": {
   "display_name": "Python 3",
   "language": "python",
   "name": "python3"
  },
  "language_info": {
   "codemirror_mode": {
    "name": "ipython",
    "version": 3
   },
   "file_extension": ".py",
   "mimetype": "text/x-python",
   "name": "python",
   "nbconvert_exporter": "python",
   "pygments_lexer": "ipython3",
   "version": "3.6.4"
  }
 },
 "nbformat": 4,
 "nbformat_minor": 2
}
